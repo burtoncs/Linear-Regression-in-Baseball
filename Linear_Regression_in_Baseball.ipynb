{
 "cells": [
  {
   "cell_type": "markdown",
   "metadata": {},
   "source": [
    "Connor Burton - Project for MATH 440 - Using Linear Regression to Predict a Team's Wins and Losses\n",
    "\n",
    "Introduction\n",
    "\n",
    "This first cell is initializing the dataset. The entire file \"team.csv\" has season-by-season data for every Major League Baseball team dating from 1871 to 2015. The sport of baseball has changed significantly over time, as most things do. A few of those changes include the advancement of technology and equipment, the evolution of athletes (they've gotten bigger, faster, and stronger), and numerous rule changes. Because of how much the game has changed since it was originated, I wanted to only look at the most recent 16 years in the data set, so my training data is from the years 2000 through 2015.\n",
    "\n",
    "I do linear regression trials using just one independent variable to see how well it predicts the dependent variable, wins. I do this for multiple separate variables including runs scored, runs allowed, hits, walks, and walks allowed. At the end of each of these trials, I print out two important statistical measures; the coefficient of determination and the mean absolute error. The coefficient of determination (aka the r-squared score) measures how much of the variation in the dependent variable (wins) is explained by the independent variable used to predict it. The mean absolute error is a measure of how close the predicted value is to the actual value. The best possible coefficient of determination is 1, meaning that the independent variable explains all of the variation in the dependent variable. The best possible mean absolute error is 0, which would mean that the prediction from the model is exactly the same as the actual value. \n",
    "\n",
    "***The most important section is the last one. This is where I use multiple linear regression and put together my algorithm using both runs scored and runs allowed by a team."
   ]
  },
  {
   "cell_type": "code",
   "execution_count": 27,
   "metadata": {
    "scrolled": false
   },
   "outputs": [],
   "source": [
    "import pandas as pd\n",
    "import numpy as np\n",
    "from sklearn import datasets, linear_model\n",
    "import matplotlib.pyplot as plt\n",
    "from sklearn.metrics import mean_squared_error, r2_score, mean_absolute_error\n",
    "from mpl_toolkits.mplot3d import Axes3D\n",
    "\n",
    "df = pd.read_csv('team.csv')\n",
    "np.where(np.array(df.year > 1999))\n",
    "\n",
    "df = df[2325:]"
   ]
  },
  {
   "cell_type": "markdown",
   "metadata": {},
   "source": [
    "RUNS\n",
    "\n",
    "In this section, I am running linear regression with runs scored by the team's offense as the independent variable and wins being the dependent variable.\n",
    "\n",
    "Coefficient of determination: 0.26 --- 26% of the variation in wins is explained by runs.\n",
    "\n",
    "Mean absolute error: 8.03 --- On average, the predicted amount of wins is +- 8.03 when compared to the actual value using this model."
   ]
  },
  {
   "cell_type": "code",
   "execution_count": 28,
   "metadata": {},
   "outputs": [],
   "source": [
    "y_wins = np.array(df.w)\n",
    "x_runs = np.transpose(np.matrix(df.r))\n",
    "\n",
    "regr = linear_model.LinearRegression()\n",
    "regr.fit(x_runs, y_wins)\n",
    "\n",
    "# Make predictions using the testing set\n",
    "#y_pred = regr.predict(np.transpose(np.matrix([700, 818])))\n",
    "y_pred = regr.predict(x_runs)\n",
    "#print(y_wins.shape)\n",
    "\n",
    "#print(y_pred)"
   ]
  },
  {
   "cell_type": "code",
   "execution_count": 29,
   "metadata": {
    "scrolled": true
   },
   "outputs": [
    {
     "name": "stdout",
     "output_type": "stream",
     "text": [
      "Coefficients: \n",
      " [0.06918415]\n",
      "Mean squared error: 95.73\n",
      "Coefficient of determination: 0.26\n",
      "Mean absolute error: 8.03\n"
     ]
    },
    {
     "data": {
      "image/png": "[encoded data removed]",
      "text/plain": [
       "<matplotlib.figure.Figure at 0x2302df74b70>"
      ]
     },
     "metadata": {},
     "output_type": "display_data"
    }
   ],
   "source": [
    "# The coefficients\n",
    "print('Coefficients: \\n', regr.coef_)\n",
    "# The mean squared error\n",
    "print(\"Mean squared error: %.2f\"\n",
    "      % mean_squared_error(y_wins, y_pred))\n",
    "# Explained variance score: 1 is perfect prediction\n",
    "print('Coefficient of determination: %.2f' % r2_score(y_wins, y_pred))\n",
    "\n",
    "print(\"Mean absolute error: %.2f\"\n",
    "      % mean_absolute_error(y_wins, y_pred))\n",
    "\n",
    "# Plot outputs\n",
    "\n",
    "x_runs = np.array(df.r)\n",
    "\n",
    "plt.scatter(x_runs, y_wins,  color='black')\n",
    "plt.plot(x_runs, y_pred, color='blue', linewidth=3)\n",
    "\n",
    "plt.xticks(())\n",
    "plt.yticks(())\n",
    "\n",
    "plt.show()"
   ]
  },
  {
   "cell_type": "markdown",
   "metadata": {},
   "source": [
    "RUNS ALLOWED\n",
    "\n",
    "In this section, I am running linear regression with runs allowed by the team's pitching staff as the independent variable and wins being the dependent variable.\n",
    "\n",
    "Coefficient of determination: 0.38 --- 38% of the variation in wins is explained by runs allowed.\n",
    "\n",
    "Mean absolute error: 7.25 --- On average, the predicted amount of wins is +- 7.25 when compared to the actual value using this model."
   ]
  },
  {
   "cell_type": "code",
   "execution_count": 30,
   "metadata": {},
   "outputs": [],
   "source": [
    "y_wins = np.array(df.w)\n",
    "x_runs_allowed = np.transpose(np.matrix(df.ra))\n",
    "\n",
    "regr = linear_model.LinearRegression()\n",
    "regr.fit(x_runs_allowed, y_wins)\n",
    "\n",
    "# Make predictions using the testing set\n",
    "#y_pred = regr.predict(np.transpose(np.matrix([500, 675])))\n",
    "y_pred = regr.predict(x_runs_allowed)\n",
    "#print(y_wins.shape)\n",
    "\n",
    "#print(y_pred)"
   ]
  },
  {
   "cell_type": "code",
   "execution_count": 31,
   "metadata": {},
   "outputs": [
    {
     "name": "stdout",
     "output_type": "stream",
     "text": [
      "Coefficients: \n",
      " [-0.07922291]\n",
      "Mean squared error: 80.43\n",
      "Coefficient of determination: 0.38\n",
      "Mean absolute error: 7.25\n"
     ]
    },
    {
     "data": {
      "image/png": "[encoded data removed]",
      "text/plain": [
       "<matplotlib.figure.Figure at 0x230311f9898>"
      ]
     },
     "metadata": {},
     "output_type": "display_data"
    }
   ],
   "source": [
    "# The coefficients\n",
    "print('Coefficients: \\n', regr.coef_)\n",
    "# The mean squared error\n",
    "print(\"Mean squared error: %.2f\"\n",
    "      % mean_squared_error(y_wins, y_pred))\n",
    "# Explained variance score: 1 is perfect prediction\n",
    "print('Coefficient of determination: %.2f' % r2_score(y_wins, y_pred))\n",
    "\n",
    "print(\"Mean absolute error: %.2f\"\n",
    "      % mean_absolute_error(y_wins, y_pred))\n",
    "\n",
    "# Plot outputs\n",
    "\n",
    "x_runs_allowed = np.array(df.ra)\n",
    "\n",
    "plt.scatter(x_runs_allowed, y_wins,  color='black')\n",
    "plt.plot(x_runs_allowed, y_pred, color='blue', linewidth=3)\n",
    "\n",
    "plt.xticks(())\n",
    "plt.yticks(())\n",
    "\n",
    "plt.show()"
   ]
  },
  {
   "cell_type": "markdown",
   "metadata": {},
   "source": [
    "HITS\n",
    "\n",
    "In this section, I am running linear regression with the amount of hits a team's offense has as the independent variable and wins being the dependent variable.\n",
    "\n",
    "Coefficient of determination: 0.12 --- 12% of the variation in wins is explained by hits.\n",
    "\n",
    "Mean absolute error: 8.88 --- On average, the predicted amount of wins is +- 8.88 when compared to the actual value using this model."
   ]
  },
  {
   "cell_type": "code",
   "execution_count": 32,
   "metadata": {
    "scrolled": true
   },
   "outputs": [],
   "source": [
    "y_wins = np.array(df.w)\n",
    "x_hits = np.transpose(np.matrix(df.h))\n",
    "\n",
    "regr = linear_model.LinearRegression()\n",
    "regr.fit(x_hits, y_wins)\n",
    "\n",
    "# Make predictions using the testing set\n",
    "#y_pred = regr.predict(np.transpose(np.matrix([700, 818])))\n",
    "y_pred = regr.predict(x_hits)\n",
    "#print(y_wins.shape)\n",
    "\n",
    "#print(y_pred)"
   ]
  },
  {
   "cell_type": "code",
   "execution_count": 33,
   "metadata": {},
   "outputs": [
    {
     "name": "stdout",
     "output_type": "stream",
     "text": [
      "Coefficients: \n",
      " [0.04766388]\n",
      "Mean squared error: 114.69\n",
      "Variance score: 0.12\n",
      "Mean absolute error: 8.88\n"
     ]
    },
    {
     "data": {
      "image/png": "[encoded data removed]",
      "text/plain": [
       "<matplotlib.figure.Figure at 0x230312ec240>"
      ]
     },
     "metadata": {},
     "output_type": "display_data"
    }
   ],
   "source": [
    "# The coefficients\n",
    "print('Coefficients: \\n', regr.coef_)\n",
    "# The mean squared error\n",
    "print(\"Mean squared error: %.2f\"\n",
    "      % mean_squared_error(y_wins, y_pred))\n",
    "# Explained variance score: 1 is perfect prediction\n",
    "print('Variance score: %.2f' % r2_score(y_wins, y_pred))\n",
    "\n",
    "print(\"Mean absolute error: %.2f\"\n",
    "      % mean_absolute_error(y_wins, y_pred))\n",
    "\n",
    "# Plot outputs\n",
    "\n",
    "x_hits = np.array(df.h)\n",
    "\n",
    "plt.scatter(x_hits, y_wins,  color='black')\n",
    "plt.plot(x_hits, y_pred, color='blue', linewidth=3)\n",
    "\n",
    "plt.xticks(())\n",
    "plt.yticks(())\n",
    "\n",
    "plt.show()"
   ]
  },
  {
   "cell_type": "markdown",
   "metadata": {},
   "source": [
    "WALKS ALLOWED\n",
    "\n",
    "In this section, I am running linear regression with the amount of walks a team's pitching staff has allowed as the independent variable and wins being the dependent variable.\n",
    "\n",
    "Coefficient of determination: 0.20 --- 20% of the variation in wins is explained by walks allowed.\n",
    "\n",
    "Mean absolute error: 8.34 --- On average, the predicted amount of wins is +- 8.34 when compared to the actual value using this model."
   ]
  },
  {
   "cell_type": "code",
   "execution_count": 34,
   "metadata": {},
   "outputs": [],
   "source": [
    "y_wins = np.array(df.w)\n",
    "x_walksAllowed = np.transpose(np.matrix(df.bba))\n",
    "\n",
    "regr = linear_model.LinearRegression()\n",
    "regr.fit(x_walksAllowed, y_wins)\n",
    "\n",
    "# Make predictions using the testing set\n",
    "#y_pred = regr.predict(np.transpose(np.matrix([700, 818])))\n",
    "y_pred = regr.predict(x_walksAllowed)\n",
    "#print(y_wins.shape)\n",
    "\n",
    "#print(y_pred)"
   ]
  },
  {
   "cell_type": "code",
   "execution_count": 35,
   "metadata": {},
   "outputs": [
    {
     "name": "stdout",
     "output_type": "stream",
     "text": [
      "Coefficients: \n",
      " [-0.07537427]\n",
      "Mean squared error: 104.62\n",
      "Variance score: 0.20\n",
      "Mean absolute error: 8.34\n"
     ]
    },
    {
     "data": {
      "image/png": "[encoded data removed]",
      "text/plain": [
       "<matplotlib.figure.Figure at 0x230313253c8>"
      ]
     },
     "metadata": {},
     "output_type": "display_data"
    }
   ],
   "source": [
    "# The coefficients\n",
    "print('Coefficients: \\n', regr.coef_)\n",
    "# The mean squared error\n",
    "print(\"Mean squared error: %.2f\"\n",
    "      % mean_squared_error(y_wins, y_pred))\n",
    "# Explained variance score: 1 is perfect prediction\n",
    "print('Variance score: %.2f' % r2_score(y_wins, y_pred))\n",
    "\n",
    "print(\"Mean absolute error: %.2f\"\n",
    "      % mean_absolute_error(y_wins, y_pred))\n",
    "\n",
    "# Plot outputs\n",
    "\n",
    "x_walksAllowed = np.array(df.bba)\n",
    "\n",
    "plt.scatter(x_walksAllowed, y_wins,  color='black')\n",
    "plt.plot(x_walksAllowed, y_pred, color='blue', linewidth=3)\n",
    "\n",
    "plt.xticks(())\n",
    "plt.yticks(())\n",
    "\n",
    "plt.show()"
   ]
  },
  {
   "cell_type": "markdown",
   "metadata": {},
   "source": [
    "WALKS\n",
    "\n",
    "In this section, I am running linear regression with the amount of walks a team's offense has as the independent variable and wins being the dependent variable.\n",
    "\n",
    "Coefficient of determination: 0.16 --- 16% of the variation in wins is explained by walks.\n",
    "\n",
    "Mean absolute error: 8.63 --- On average, the predicted amount of wins is +- 8.63 when compared to the actual value using this model."
   ]
  },
  {
   "cell_type": "code",
   "execution_count": 36,
   "metadata": {},
   "outputs": [],
   "source": [
    "y_wins = np.array(df.w)\n",
    "x_walks = np.transpose(np.matrix(df.bb))\n",
    "\n",
    "regr = linear_model.LinearRegression()\n",
    "regr.fit(x_walks, y_wins)\n",
    "\n",
    "# Make predictions using the testing set\n",
    "#y_pred = regr.predict(np.transpose(np.matrix([700, 818])))\n",
    "y_pred = regr.predict(x_walks)\n",
    "#print(y_wins.shape)\n",
    "\n",
    "#print(y_pred)"
   ]
  },
  {
   "cell_type": "code",
   "execution_count": 37,
   "metadata": {},
   "outputs": [
    {
     "name": "stdout",
     "output_type": "stream",
     "text": [
      "Coefficients: \n",
      " [0.06373271]\n",
      "Mean squared error: 109.53\n",
      "Coefficient of determination: 0.16\n",
      "Mean absolute error: 8.63\n"
     ]
    },
    {
     "data": {
      "image/png": "[encoded data removed]",
      "text/plain": [
       "<matplotlib.figure.Figure at 0x23031373d68>"
      ]
     },
     "metadata": {},
     "output_type": "display_data"
    }
   ],
   "source": [
    "# The coefficients\n",
    "print('Coefficients: \\n', regr.coef_)\n",
    "# The mean squared error\n",
    "print(\"Mean squared error: %.2f\"\n",
    "      % mean_squared_error(y_wins, y_pred))\n",
    "# Explained variance score: 1 is perfect prediction\n",
    "print('Coefficient of determination: %.2f' % r2_score(y_wins, y_pred))\n",
    "\n",
    "print(\"Mean absolute error: %.2f\"\n",
    "      % mean_absolute_error(y_wins, y_pred))\n",
    "\n",
    "# Plot outputs\n",
    "\n",
    "x_walks = np.array(df.bb)\n",
    "\n",
    "plt.scatter(x_walks, y_wins,  color='black')\n",
    "plt.plot(x_walks, y_pred, color='blue', linewidth=3)\n",
    "\n",
    "plt.xticks(())\n",
    "plt.yticks(())\n",
    "\n",
    "plt.show()"
   ]
  },
  {
   "cell_type": "markdown",
   "metadata": {},
   "source": [
    "RUNS AND RUNS ALLOWED\n",
    "\n",
    "In this section, I am running multiple linear regression with the amount of runs scored by a team's offense and the amount of runs allowed by their pitching staff as the independent variables to predict the number of wins (dependent variable) a team has.\n",
    "\n",
    "Coefficient of determination: 0.88 --- 88% of the variation in wins is explained by hits.\n",
    "\n",
    "Mean absolute error: 3.23 --- On average, the predicted amount of wins is +- 3.23 when compared to the actual value using this model.\n",
    "\n",
    "\n",
    "This is the section that I built up to and was really the focus/goal of the entire project. I was interested to see if there was any relationship between wins and all those other variables I used as the independent variables, but in the end I wanted to see how well the amount of runs scored and allowed would predict the amount of wins by a team. I realized that my algorithm produced fairly similar results to an algorithm named the Pythagorean Win-Loss algorithm. I was pretty pleased with the results to see that this algorithm could fairly accurately predict the amount of wins for a given team. I decided to test it out with a few actual teams from the past few years. Below are the results.\n",
    "\n",
    "Cleveland Indians:\n",
    "\n",
    "    2016:Predicted Wins = 91; Actual Wins = 94\n",
    "    \n",
    "    2017:Predicted Wins = 107; Actual Wins = 102\n",
    "    \n",
    "    2018:Predicted Wins = 98; Actual Wins = 91\n",
    "    \n",
    "    \n",
    "Cincinnati Reds:\n",
    "\n",
    "    2016:Predicted Wins = 67; Actual Wins = 68\n",
    "    \n",
    "    2017:Predicted Wins = 69; Actual Wins 68\n",
    "    \n",
    "    2018:Predicted Wins = 68; Actual Wins = 67\n",
    "    \n",
    "    \n",
    "Boston Red Sox:\n",
    "\n",
    "    2018:Predicted Wins = 104; Actual Wins = 108"
   ]
  },
  {
   "cell_type": "code",
   "execution_count": 38,
   "metadata": {},
   "outputs": [
    {
     "name": "stdout",
     "output_type": "stream",
     "text": [
      "Indians 2016:  [91.26248152]\n",
      "Indians 2017:  [106.94833812]\n",
      "Indians 2018:  [98.20446436]\n",
      "\n",
      "Reds 2016:  [66.7418734]\n",
      "Reds 2017:  [68.81491262]\n",
      "Reds 2018:  [68.42058913]\n",
      "\n",
      "Red Sox 2018: [104.0057966]\n",
      "\n",
      "Coefficients: \n",
      " [ 0.09822825 -0.10409374]\n",
      "Mean squared error: 16.05\n",
      "Coefficient of determination: 0.88\n",
      "Mean absolute error: 3.23\n"
     ]
    }
   ],
   "source": [
    "y_wins = np.array(df.w)\n",
    "x_runs = np.transpose(np.array(df.r))\n",
    "x_runs_allowed = np.transpose(np.array(df.ra))\n",
    "\n",
    "X = np.zeros((480,2))\n",
    "X[:,0] = x_runs\n",
    "X[:,1] = x_runs_allowed\n",
    "#print(X)\n",
    "\n",
    "#regr = linear_model.LinearRegression()\n",
    "#regr.fit(x_runs, y_wins)\n",
    "\n",
    "# Make predictions using the testing set\n",
    "#y_pred = regr.predict(np.transpose(np.matrix([700, 818])))\n",
    "#y_pred = regr.predict(x_runs)\n",
    "#print(y_wins.shape)\n",
    "#print(X.shape)\n",
    "#x_runs_allowed = np.transpose(np.matrix(df.ra))\n",
    "\n",
    "regr = linear_model.LinearRegression()\n",
    "regr.fit(X, y_wins)\n",
    "\n",
    "# Make predictions using the testing set\n",
    "y_pred16 = regr.predict(np.matrix([777, 676]))\n",
    "y_pred17 = regr.predict(np.matrix([818, 564]))\n",
    "y_pred18 = regr.predict(np.matrix([818, 648]))\n",
    "\n",
    "y_pred_reds16 = regr.predict(np.matrix([716, 854]))\n",
    "y_pred_reds17 = regr.predict(np.matrix([753, 869]))\n",
    "y_pred_reds18 = regr.predict(np.matrix([696, 819]))\n",
    "y_pred = regr.predict(X)\n",
    "\n",
    "y_pred_rsox18 = regr.predict(np.matrix([876, 647]))\n",
    "#print(y_wins.shape)\n",
    "\n",
    "#Indians\n",
    "print(\"Indians 2016: \", y_pred16)\n",
    "print(\"Indians 2017: \", y_pred17)\n",
    "print(\"Indians 2018: \", y_pred18)\n",
    "print()\n",
    "\n",
    "\n",
    "#Reds\n",
    "print (\"Reds 2016: \", y_pred_reds16)\n",
    "print (\"Reds 2017: \", y_pred_reds17)\n",
    "print (\"Reds 2018: \", y_pred_reds18)\n",
    "print()\n",
    "\n",
    "#Red Sox\n",
    "print(\"Red Sox 2018:\", y_pred_rsox18)\n",
    "print()\n",
    "\n",
    "\n",
    "\n",
    "\n",
    "# The coefficients\n",
    "print('Coefficients: \\n', regr.coef_)\n",
    "# The mean squared error\n",
    "print(\"Mean squared error: %.2f\"\n",
    "      % mean_squared_error(y_wins, y_pred))\n",
    "\n",
    "# Explained variance score: 1 is perfect prediction\n",
    "print('Coefficient of determination: %.2f' % r2_score(y_wins, y_pred))\n",
    "\n",
    "print(\"Mean absolute error: %.2f\"\n",
    "      % mean_absolute_error(y_wins, y_pred))\n",
    "\n",
    "\n",
    "\n",
    "# Plot outputs\n",
    "#fig = plt.figure()\n",
    "#ax = Axes3D(fig)\n",
    "#ax.scatter(X[:,0], X[:,1], y_wins,  color='black')\n",
    "#ax.plot(X[:,0], y_pred, color='blue', linewidth=1)\n",
    "\n",
    "#plt.xticks(())\n",
    "#plt.yticks(())\n",
    "\n",
    "#plt.show()"
   ]
  }
 ],
 "metadata": {
  "kernelspec": {
   "display_name": "Python 3",
   "language": "python",
   "name": "python3"
  },
  "language_info": {
   "codemirror_mode": {
    "name": "ipython",
    "version": 3
   },
   "file_extension": ".py",
   "mimetype": "text/x-python",
   "name": "python",
   "nbconvert_exporter": "python",
   "pygments_lexer": "ipython3",
   "version": "3.6.3"
  }
 },
 "nbformat": 4,
 "nbformat_minor": 2
}
